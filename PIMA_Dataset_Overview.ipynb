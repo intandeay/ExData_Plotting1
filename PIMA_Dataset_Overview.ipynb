{
  "nbformat": 4,
  "nbformat_minor": 0,
  "metadata": {
    "colab": {
      "name": "PIMA Dataset Overview",
      "provenance": [],
      "collapsed_sections": [],
      "include_colab_link": true
    },
    "kernelspec": {
      "name": "python3",
      "display_name": "Python 3"
    }
  },
  "cells": [
    {
      "cell_type": "markdown",
      "metadata": {
        "id": "view-in-github",
        "colab_type": "text"
      },
      "source": [
        "<a href=\"https://colab.research.google.com/github/intandeay/ExData_Plotting1/blob/master/PIMA_Dataset_Overview.ipynb\" target=\"_parent\"><img src=\"https://colab.research.google.com/assets/colab-badge.svg\" alt=\"Open In Colab\"/></a>"
      ]
    },
    {
      "cell_type": "code",
      "metadata": {
        "id": "ngTWoEBC7zrV",
        "colab_type": "code",
        "colab": {}
      },
      "source": [
        "%tensorflow_version 2.x"
      ],
      "execution_count": 0,
      "outputs": []
    },
    {
      "cell_type": "code",
      "metadata": {
        "id": "fZuqanp64xm6",
        "colab_type": "code",
        "colab": {}
      },
      "source": [
        "import pandas as pd\n",
        "import numpy as np\n",
        "import seaborn as sns\n",
        "import matplotlib.pyplot as plt\n",
        "from sklearn.model_selection import train_test_split\n",
        "import tensorflow as tf\n",
        "from tensorflow import feature_column\n",
        "from tensorflow.keras import layers"
      ],
      "execution_count": 0,
      "outputs": []
    },
    {
      "cell_type": "markdown",
      "metadata": {
        "id": "97ratiCb5BLn",
        "colab_type": "text"
      },
      "source": [
        "Read The Dataset"
      ]
    },
    {
      "cell_type": "code",
      "metadata": {
        "id": "BTPA0Rcf4dgK",
        "colab_type": "code",
        "colab": {}
      },
      "source": [
        "df = pd.read_csv('diabetes.csv')"
      ],
      "execution_count": 0,
      "outputs": []
    },
    {
      "cell_type": "markdown",
      "metadata": {
        "id": "IIIGebXs4_jj",
        "colab_type": "text"
      },
      "source": [
        "Get a Glimpse on dataset"
      ]
    },
    {
      "cell_type": "code",
      "metadata": {
        "id": "jYjVS5o75MQf",
        "colab_type": "code",
        "outputId": "1cc95906-0a0c-41f4-9aca-23d73320f802",
        "colab": {
          "base_uri": "https://localhost:8080/",
          "height": 34
        }
      },
      "source": [
        "df.shape"
      ],
      "execution_count": 6,
      "outputs": [
        {
          "output_type": "execute_result",
          "data": {
            "text/plain": [
              "(768, 9)"
            ]
          },
          "metadata": {
            "tags": []
          },
          "execution_count": 6
        }
      ]
    },
    {
      "cell_type": "code",
      "metadata": {
        "id": "A2QXt0UB493u",
        "colab_type": "code",
        "outputId": "3b78ae45-cbae-480d-c6ef-0c30140e0b6b",
        "colab": {
          "base_uri": "https://localhost:8080/",
          "height": 204
        }
      },
      "source": [
        "df.head()"
      ],
      "execution_count": 7,
      "outputs": [
        {
          "output_type": "execute_result",
          "data": {
            "text/html": [
              "<div>\n",
              "<style scoped>\n",
              "    .dataframe tbody tr th:only-of-type {\n",
              "        vertical-align: middle;\n",
              "    }\n",
              "\n",
              "    .dataframe tbody tr th {\n",
              "        vertical-align: top;\n",
              "    }\n",
              "\n",
              "    .dataframe thead th {\n",
              "        text-align: right;\n",
              "    }\n",
              "</style>\n",
              "<table border=\"1\" class=\"dataframe\">\n",
              "  <thead>\n",
              "    <tr style=\"text-align: right;\">\n",
              "      <th></th>\n",
              "      <th>Pregnancies</th>\n",
              "      <th>Glucose</th>\n",
              "      <th>BloodPressure</th>\n",
              "      <th>SkinThickness</th>\n",
              "      <th>Insulin</th>\n",
              "      <th>BMI</th>\n",
              "      <th>DiabetesPedigreeFunction</th>\n",
              "      <th>Age</th>\n",
              "      <th>Outcome</th>\n",
              "    </tr>\n",
              "  </thead>\n",
              "  <tbody>\n",
              "    <tr>\n",
              "      <th>0</th>\n",
              "      <td>6</td>\n",
              "      <td>148</td>\n",
              "      <td>72</td>\n",
              "      <td>35</td>\n",
              "      <td>0</td>\n",
              "      <td>33.6</td>\n",
              "      <td>0.627</td>\n",
              "      <td>50</td>\n",
              "      <td>1</td>\n",
              "    </tr>\n",
              "    <tr>\n",
              "      <th>1</th>\n",
              "      <td>1</td>\n",
              "      <td>85</td>\n",
              "      <td>66</td>\n",
              "      <td>29</td>\n",
              "      <td>0</td>\n",
              "      <td>26.6</td>\n",
              "      <td>0.351</td>\n",
              "      <td>31</td>\n",
              "      <td>0</td>\n",
              "    </tr>\n",
              "    <tr>\n",
              "      <th>2</th>\n",
              "      <td>8</td>\n",
              "      <td>183</td>\n",
              "      <td>64</td>\n",
              "      <td>0</td>\n",
              "      <td>0</td>\n",
              "      <td>23.3</td>\n",
              "      <td>0.672</td>\n",
              "      <td>32</td>\n",
              "      <td>1</td>\n",
              "    </tr>\n",
              "    <tr>\n",
              "      <th>3</th>\n",
              "      <td>1</td>\n",
              "      <td>89</td>\n",
              "      <td>66</td>\n",
              "      <td>23</td>\n",
              "      <td>94</td>\n",
              "      <td>28.1</td>\n",
              "      <td>0.167</td>\n",
              "      <td>21</td>\n",
              "      <td>0</td>\n",
              "    </tr>\n",
              "    <tr>\n",
              "      <th>4</th>\n",
              "      <td>0</td>\n",
              "      <td>137</td>\n",
              "      <td>40</td>\n",
              "      <td>35</td>\n",
              "      <td>168</td>\n",
              "      <td>43.1</td>\n",
              "      <td>2.288</td>\n",
              "      <td>33</td>\n",
              "      <td>1</td>\n",
              "    </tr>\n",
              "  </tbody>\n",
              "</table>\n",
              "</div>"
            ],
            "text/plain": [
              "   Pregnancies  Glucose  BloodPressure  ...  DiabetesPedigreeFunction  Age  Outcome\n",
              "0            6      148             72  ...                     0.627   50        1\n",
              "1            1       85             66  ...                     0.351   31        0\n",
              "2            8      183             64  ...                     0.672   32        1\n",
              "3            1       89             66  ...                     0.167   21        0\n",
              "4            0      137             40  ...                     2.288   33        1\n",
              "\n",
              "[5 rows x 9 columns]"
            ]
          },
          "metadata": {
            "tags": []
          },
          "execution_count": 7
        }
      ]
    },
    {
      "cell_type": "code",
      "metadata": {
        "id": "m8_ZypMs5PhQ",
        "colab_type": "code",
        "outputId": "5fce8fbc-4c95-4c1d-f4b9-25a689a58ffa",
        "colab": {
          "base_uri": "https://localhost:8080/",
          "height": 297
        }
      },
      "source": [
        "df.describe()"
      ],
      "execution_count": 8,
      "outputs": [
        {
          "output_type": "execute_result",
          "data": {
            "text/html": [
              "<div>\n",
              "<style scoped>\n",
              "    .dataframe tbody tr th:only-of-type {\n",
              "        vertical-align: middle;\n",
              "    }\n",
              "\n",
              "    .dataframe tbody tr th {\n",
              "        vertical-align: top;\n",
              "    }\n",
              "\n",
              "    .dataframe thead th {\n",
              "        text-align: right;\n",
              "    }\n",
              "</style>\n",
              "<table border=\"1\" class=\"dataframe\">\n",
              "  <thead>\n",
              "    <tr style=\"text-align: right;\">\n",
              "      <th></th>\n",
              "      <th>Pregnancies</th>\n",
              "      <th>Glucose</th>\n",
              "      <th>BloodPressure</th>\n",
              "      <th>SkinThickness</th>\n",
              "      <th>Insulin</th>\n",
              "      <th>BMI</th>\n",
              "      <th>DiabetesPedigreeFunction</th>\n",
              "      <th>Age</th>\n",
              "      <th>Outcome</th>\n",
              "    </tr>\n",
              "  </thead>\n",
              "  <tbody>\n",
              "    <tr>\n",
              "      <th>count</th>\n",
              "      <td>768.000000</td>\n",
              "      <td>768.000000</td>\n",
              "      <td>768.000000</td>\n",
              "      <td>768.000000</td>\n",
              "      <td>768.000000</td>\n",
              "      <td>768.000000</td>\n",
              "      <td>768.000000</td>\n",
              "      <td>768.000000</td>\n",
              "      <td>768.000000</td>\n",
              "    </tr>\n",
              "    <tr>\n",
              "      <th>mean</th>\n",
              "      <td>3.845052</td>\n",
              "      <td>120.894531</td>\n",
              "      <td>69.105469</td>\n",
              "      <td>20.536458</td>\n",
              "      <td>79.799479</td>\n",
              "      <td>31.992578</td>\n",
              "      <td>0.471876</td>\n",
              "      <td>33.240885</td>\n",
              "      <td>0.348958</td>\n",
              "    </tr>\n",
              "    <tr>\n",
              "      <th>std</th>\n",
              "      <td>3.369578</td>\n",
              "      <td>31.972618</td>\n",
              "      <td>19.355807</td>\n",
              "      <td>15.952218</td>\n",
              "      <td>115.244002</td>\n",
              "      <td>7.884160</td>\n",
              "      <td>0.331329</td>\n",
              "      <td>11.760232</td>\n",
              "      <td>0.476951</td>\n",
              "    </tr>\n",
              "    <tr>\n",
              "      <th>min</th>\n",
              "      <td>0.000000</td>\n",
              "      <td>0.000000</td>\n",
              "      <td>0.000000</td>\n",
              "      <td>0.000000</td>\n",
              "      <td>0.000000</td>\n",
              "      <td>0.000000</td>\n",
              "      <td>0.078000</td>\n",
              "      <td>21.000000</td>\n",
              "      <td>0.000000</td>\n",
              "    </tr>\n",
              "    <tr>\n",
              "      <th>25%</th>\n",
              "      <td>1.000000</td>\n",
              "      <td>99.000000</td>\n",
              "      <td>62.000000</td>\n",
              "      <td>0.000000</td>\n",
              "      <td>0.000000</td>\n",
              "      <td>27.300000</td>\n",
              "      <td>0.243750</td>\n",
              "      <td>24.000000</td>\n",
              "      <td>0.000000</td>\n",
              "    </tr>\n",
              "    <tr>\n",
              "      <th>50%</th>\n",
              "      <td>3.000000</td>\n",
              "      <td>117.000000</td>\n",
              "      <td>72.000000</td>\n",
              "      <td>23.000000</td>\n",
              "      <td>30.500000</td>\n",
              "      <td>32.000000</td>\n",
              "      <td>0.372500</td>\n",
              "      <td>29.000000</td>\n",
              "      <td>0.000000</td>\n",
              "    </tr>\n",
              "    <tr>\n",
              "      <th>75%</th>\n",
              "      <td>6.000000</td>\n",
              "      <td>140.250000</td>\n",
              "      <td>80.000000</td>\n",
              "      <td>32.000000</td>\n",
              "      <td>127.250000</td>\n",
              "      <td>36.600000</td>\n",
              "      <td>0.626250</td>\n",
              "      <td>41.000000</td>\n",
              "      <td>1.000000</td>\n",
              "    </tr>\n",
              "    <tr>\n",
              "      <th>max</th>\n",
              "      <td>17.000000</td>\n",
              "      <td>199.000000</td>\n",
              "      <td>122.000000</td>\n",
              "      <td>99.000000</td>\n",
              "      <td>846.000000</td>\n",
              "      <td>67.100000</td>\n",
              "      <td>2.420000</td>\n",
              "      <td>81.000000</td>\n",
              "      <td>1.000000</td>\n",
              "    </tr>\n",
              "  </tbody>\n",
              "</table>\n",
              "</div>"
            ],
            "text/plain": [
              "       Pregnancies     Glucose  ...         Age     Outcome\n",
              "count   768.000000  768.000000  ...  768.000000  768.000000\n",
              "mean      3.845052  120.894531  ...   33.240885    0.348958\n",
              "std       3.369578   31.972618  ...   11.760232    0.476951\n",
              "min       0.000000    0.000000  ...   21.000000    0.000000\n",
              "25%       1.000000   99.000000  ...   24.000000    0.000000\n",
              "50%       3.000000  117.000000  ...   29.000000    0.000000\n",
              "75%       6.000000  140.250000  ...   41.000000    1.000000\n",
              "max      17.000000  199.000000  ...   81.000000    1.000000\n",
              "\n",
              "[8 rows x 9 columns]"
            ]
          },
          "metadata": {
            "tags": []
          },
          "execution_count": 8
        }
      ]
    },
    {
      "cell_type": "code",
      "metadata": {
        "id": "h1_WSMil5SJ7",
        "colab_type": "code",
        "outputId": "3be25e2e-4b78-4afb-a444-19381775fc53",
        "colab": {
          "base_uri": "https://localhost:8080/",
          "height": 34
        }
      },
      "source": [
        "df.isnull().values.any()"
      ],
      "execution_count": 9,
      "outputs": [
        {
          "output_type": "execute_result",
          "data": {
            "text/plain": [
              "False"
            ]
          },
          "metadata": {
            "tags": []
          },
          "execution_count": 9
        }
      ]
    },
    {
      "cell_type": "code",
      "metadata": {
        "id": "FvNzoFOvTkvM",
        "colab_type": "code",
        "outputId": "a3a4239e-de98-4f24-d2d0-494ede53d04a",
        "colab": {
          "base_uri": "https://localhost:8080/",
          "height": 34
        }
      },
      "source": [
        "df.Outcome.mean() #checking the distribution of Outcome, result: 35% in this dataset has Diabetes"
      ],
      "execution_count": 10,
      "outputs": [
        {
          "output_type": "execute_result",
          "data": {
            "text/plain": [
              "0.3489583333333333"
            ]
          },
          "metadata": {
            "tags": []
          },
          "execution_count": 10
        }
      ]
    },
    {
      "cell_type": "markdown",
      "metadata": {
        "id": "S8ochja55XnV",
        "colab_type": "text"
      },
      "source": [
        "Create Correlation Matrix to Know Correlating Features"
      ]
    },
    {
      "cell_type": "code",
      "metadata": {
        "id": "Xy7c58ay5VDN",
        "colab_type": "code",
        "outputId": "4525057a-7b27-4275-fa6d-2b13aead9de3",
        "colab": {
          "base_uri": "https://localhost:8080/",
          "height": 675
        }
      },
      "source": [
        "corr = df.corr()\n",
        "# Generate a mask for the upper triangle\n",
        "mask = np.triu(np.ones_like(corr, dtype=np.bool))\n",
        "\n",
        "# Set up the matplotlib figure\n",
        "f, ax = plt.subplots(figsize=(11, 9))\n",
        "\n",
        "# Generate a custom diverging colormap\n",
        "cmap = sns.diverging_palette(220, 10, as_cmap=True)\n",
        "\n",
        "# Draw the heatmap with the mask and correct aspect ratio\n",
        "sns.heatmap(corr, mask=mask, cmap=cmap, vmax=.3, center=0,\n",
        "            square=True, linewidths=.5, cbar_kws={\"shrink\": .5})"
      ],
      "execution_count": 11,
      "outputs": [
        {
          "output_type": "execute_result",
          "data": {
            "text/plain": [
              "<matplotlib.axes._subplots.AxesSubplot at 0x7f571262dc50>"
            ]
          },
          "metadata": {
            "tags": []
          },
          "execution_count": 11
        },
        {
          "output_type": "display_data",
          "data": {
            "image/png": "[encoded data removed]",
            "text/plain": [
              "<Figure size 792x648 with 2 Axes>"
            ]
          },
          "metadata": {
            "tags": []
          }
        }
      ]
    },
    {
      "cell_type": "markdown",
      "metadata": {
        "id": "ED25myEP8J60",
        "colab_type": "text"
      },
      "source": [
        "Check missing values"
      ]
    },
    {
      "cell_type": "code",
      "metadata": {
        "id": "2LuLvUz7yiig",
        "colab_type": "code",
        "colab": {
          "base_uri": "https://localhost:8080/",
          "height": 170
        },
        "outputId": "505d8450-23ba-47e8-9e63-e3b8524c8db6"
      },
      "source": [
        "for col in df.columns:\n",
        "    print(col, df[df[col] == 0].shape[0]/df.shape[0])"
      ],
      "execution_count": 20,
      "outputs": [
        {
          "output_type": "stream",
          "text": [
            "Pregnancies 0.14453125\n",
            "Glucose 0.006510416666666667\n",
            "BloodPressure 0.045572916666666664\n",
            "SkinThickness 0.2955729166666667\n",
            "Insulin 0.4869791666666667\n",
            "BMI 0.014322916666666666\n",
            "DiabetesPedigreeFunction 0.0\n",
            "Age 0.0\n",
            "Outcome 0.6510416666666666\n"
          ],
          "name": "stdout"
        }
      ]
    },
    {
      "cell_type": "markdown",
      "metadata": {
        "id": "eqCTLJSM8Nzz",
        "colab_type": "text"
      },
      "source": [
        "Substitute zero values in some columns"
      ]
    },
    {
      "cell_type": "code",
      "metadata": {
        "id": "l8vIqK9h8Z1L",
        "colab_type": "code",
        "colab": {
          "base_uri": "https://localhost:8080/",
          "height": 153
        },
        "outputId": "bb147cad-c207-4660-a654-919a7aa03b8f"
      },
      "source": [
        "df_new = df.copy()\n",
        "cols_to_change = ['BloodPressure', 'Insulin', 'BMI', 'SkinThickness']\n",
        "\n",
        "for col in cols_to_change:\n",
        "    mean_0 = np.mean(df.loc[(df.Outcome == 0) & (df[col] != 0) , col])\n",
        "    median_0 = np.median(df.loc[(df.Outcome == 0) & (df[col] != 0), col])\n",
        "    print(col, \"mean: \", mean_0, \"median: \", median_0)\n",
        "    mean_1 = np.mean(df.loc[(df.Outcome == 1) & (df[col] != 0), col])\n",
        "    median_1 = np.median(df.loc[(df.Outcome == 1) & (df[col] != 0), col])\n",
        "    print(col, \"mean: \", mean_1, \"median: \", median_1)\n",
        "\n",
        "    # df_new.loc[(df_new[col] == 0) & (df_new['Outcome'] == 0), col] = mean_0\n",
        "    # df_new.loc[(df_new[col] == 0) & (df_new['Outcome'] == 1), col] = mean_1"
      ],
      "execution_count": 45,
      "outputs": [
        {
          "output_type": "stream",
          "text": [
            "BloodPressure mean:  70.87733887733887 median:  70.0\n",
            "BloodPressure mean:  75.32142857142857 median:  74.5\n",
            "Insulin mean:  130.28787878787878 median:  102.5\n",
            "Insulin mean:  206.84615384615384 median:  169.5\n",
            "BMI mean:  30.85967413441951 median:  30.1\n",
            "BMI mean:  35.40676691729318 median:  34.3\n",
            "SkinThickness mean:  27.235457063711912 median:  27.0\n",
            "SkinThickness mean:  33.0 median:  32.0\n"
          ],
          "name": "stdout"
        }
      ]
    },
    {
      "cell_type": "code",
      "metadata": {
        "id": "U5S9uwMk-oOU",
        "colab_type": "code",
        "colab": {
          "base_uri": "https://localhost:8080/",
          "height": 472
        },
        "outputId": "afe5d1a3-d3ea-4100-b34b-72fa466e7db9"
      },
      "source": [
        "#Plot distribution of Insulin, Outcome = 1 & 0, to see whether mean or median is more relevant\n",
        "insulin_0 = df.loc[(df.Outcome == 0) & (df['Insulin'] != 0), 'Insulin']\n",
        "insulin_1 = df.loc[(df.Outcome == 1) & (df['Insulin'] != 0), 'Insulin']\n",
        "plt.hist(insulin_0,30)\n",
        "plt.hist(insulin_1,30)"
      ],
      "execution_count": 37,
      "outputs": [
        {
          "output_type": "execute_result",
          "data": {
            "text/plain": [
              "(array([ 3.,  3., 10., 13., 22., 23., 13.,  9.,  6.,  5.,  4.,  4.,  2.,\n",
              "         1.,  0.,  0.,  4.,  3.,  1.,  1.,  1.,  1.,  0.,  0.,  0.,  0.,\n",
              "         0.,  0.,  0.,  1.]),\n",
              " array([ 14.        ,  41.73333333,  69.46666667,  97.2       ,\n",
              "        124.93333333, 152.66666667, 180.4       , 208.13333333,\n",
              "        235.86666667, 263.6       , 291.33333333, 319.06666667,\n",
              "        346.8       , 374.53333333, 402.26666667, 430.        ,\n",
              "        457.73333333, 485.46666667, 513.2       , 540.93333333,\n",
              "        568.66666667, 596.4       , 624.13333333, 651.86666667,\n",
              "        679.6       , 707.33333333, 735.06666667, 762.8       ,\n",
              "        790.53333333, 818.26666667, 846.        ]),\n",
              " <a list of 30 Patch objects>)"
            ]
          },
          "metadata": {
            "tags": []
          },
          "execution_count": 37
        },
        {
          "output_type": "display_data",
          "data": {
            "image/png": "[encoded data removed]",
            "text/plain": [
              "<Figure size 432x288 with 1 Axes>"
            ]
          },
          "metadata": {
            "tags": []
          }
        }
      ]
    },
    {
      "cell_type": "code",
      "metadata": {
        "id": "KcGKaO3XAYJ-",
        "colab_type": "code",
        "colab": {
          "base_uri": "https://localhost:8080/",
          "height": 401
        },
        "outputId": "43fa347f-0813-4417-d042-bae4997ad58c"
      },
      "source": [
        "#Plot distribution of BloodPressure, Outcome = 1 & 0, to see whether mean or median is more relevant\n",
        "BloodPressure_0 = df.loc[(df.Outcome == 0) & (df['BloodPressure'] != 0), 'BloodPressure']\n",
        "BloodPressure_1 = df.loc[(df.Outcome == 1) & (df['BloodPressure'] != 0), 'BloodPressure']\n",
        "plt.hist(BloodPressure_0,30)\n",
        "plt.hist(BloodPressure_1,30)"
      ],
      "execution_count": 44,
      "outputs": [
        {
          "output_type": "execute_result",
          "data": {
            "text/plain": [
              "(array([ 1.,  0.,  0.,  1.,  0.,  0.,  1.,  8.,  2.,  1.,  9., 10., 25.,\n",
              "        12., 23., 33., 19., 30., 13., 15., 20., 11.,  6.,  1.,  2.,  2.,\n",
              "         2.,  2.,  2.,  1.]),\n",
              " array([ 30. ,  32.8,  35.6,  38.4,  41.2,  44. ,  46.8,  49.6,  52.4,\n",
              "         55.2,  58. ,  60.8,  63.6,  66.4,  69.2,  72. ,  74.8,  77.6,\n",
              "         80.4,  83.2,  86. ,  88.8,  91.6,  94.4,  97.2, 100. , 102.8,\n",
              "        105.6, 108.4, 111.2, 114. ]),\n",
              " <a list of 30 Patch objects>)"
            ]
          },
          "metadata": {
            "tags": []
          },
          "execution_count": 44
        },
        {
          "output_type": "display_data",
          "data": {
            "image/png": "[encoded data removed]",
            "text/plain": [
              "<Figure size 432x288 with 1 Axes>"
            ]
          },
          "metadata": {
            "tags": []
          }
        }
      ]
    },
    {
      "cell_type": "code",
      "metadata": {
        "id": "_jpsFntVAmll",
        "colab_type": "code",
        "colab": {
          "base_uri": "https://localhost:8080/",
          "height": 452
        },
        "outputId": "8a4a6bb2-eaca-4517-aee2-c40370a4c72b"
      },
      "source": [
        "#Plot distribution of BMI, Outcome = 1 & 0, to see whether mean or median is more relevant\n",
        "BMI_0 = df.loc[(df.Outcome == 0) & (df['BMI'] != 0), 'BMI']\n",
        "BMI_1 = df.loc[(df.Outcome == 1) & (df['BMI'] != 0), 'BMI']\n",
        "#plt.hist(BMI_0,30)\n",
        "plt.hist(BMI_1,30)"
      ],
      "execution_count": 42,
      "outputs": [
        {
          "output_type": "execute_result",
          "data": {
            "text/plain": [
              "(array([ 6.,  5.,  7., 16., 20., 28., 27., 34., 22., 19., 19., 10.,  7.,\n",
              "        17.,  7.,  8.,  2.,  3.,  3.,  1.,  2.,  1.,  0.,  0.,  1.,  0.,\n",
              "         0.,  0.,  0.,  1.]),\n",
              " array([22.9       , 24.37333333, 25.84666667, 27.32      , 28.79333333,\n",
              "        30.26666667, 31.74      , 33.21333333, 34.68666667, 36.16      ,\n",
              "        37.63333333, 39.10666667, 40.58      , 42.05333333, 43.52666667,\n",
              "        45.        , 46.47333333, 47.94666667, 49.42      , 50.89333333,\n",
              "        52.36666667, 53.84      , 55.31333333, 56.78666667, 58.26      ,\n",
              "        59.73333333, 61.20666667, 62.68      , 64.15333333, 65.62666667,\n",
              "        67.1       ]),\n",
              " <a list of 30 Patch objects>)"
            ]
          },
          "metadata": {
            "tags": []
          },
          "execution_count": 42
        },
        {
          "output_type": "display_data",
          "data": {
            "image/png": "[encoded data removed]",
            "text/plain": [
              "<Figure size 432x288 with 1 Axes>"
            ]
          },
          "metadata": {
            "tags": []
          }
        }
      ]
    },
    {
      "cell_type": "code",
      "metadata": {
        "id": "ofM7aNpOBqIc",
        "colab_type": "code",
        "colab": {}
      },
      "source": [
        "#Plot distribution of SkinThickness, Outcome = 1 & 0, to see whether mean or median is more relevant\n",
        "SkinThickness_0 = df.loc[(df.Outcome == 0) & (df['SkinThickness'] != 0), 'SkinThickness']\n",
        "SkinThickness_1 = df.loc[(df.Outcome == 1) & (df['SkinThickness'] != 0), 'SkinThickness']\n",
        "plt.hist(SkinThickness_0,30)\n",
        "plt.hist(SkinThickness_1,30)"
      ],
      "execution_count": 0,
      "outputs": []
    },
    {
      "cell_type": "markdown",
      "metadata": {
        "id": "k1wqSIgaBOqp",
        "colab_type": "text"
      },
      "source": [
        "Insulin: Median\n",
        "BP : Mean\n",
        "BMI : Mean\n",
        "Must remove outliers\n"
      ]
    },
    {
      "cell_type": "markdown",
      "metadata": {
        "id": "zztjiKDH5-ao",
        "colab_type": "text"
      },
      "source": [
        "Split dataset into train and test set"
      ]
    },
    {
      "cell_type": "code",
      "metadata": {
        "id": "xERqTKNN5eK3",
        "colab_type": "code",
        "colab": {}
      },
      "source": [
        "X = df\n",
        "y = df['Outcome']\n",
        "\n",
        "X_train, X_test, y_train, y_test = train_test_split(X, y, test_size=0.1, random_state=42, shuffle = True)"
      ],
      "execution_count": 0,
      "outputs": []
    },
    {
      "cell_type": "code",
      "metadata": {
        "id": "iViwILvI6iVo",
        "colab_type": "code",
        "outputId": "0334147e-ae9f-43dd-ab64-b7fc04068017",
        "colab": {
          "base_uri": "https://localhost:8080/",
          "height": 153
        }
      },
      "source": [
        "# Create an empty list that will eventually hold all created feature columns.\n",
        "dataset_columns = X.columns\n",
        "feature_columns = []\n",
        "\n",
        "# Create numerical feature columns to represent all columns in X\n",
        "for col in ['Glucose', 'BMI']: #Excluding outcome value, since outcome is still included in dataset\n",
        "    col_tf = tf.feature_column.numeric_column(col)\n",
        "    feature_columns.append(col_tf)\n",
        "\n",
        "# Convert the list of feature columns into a layer that will later be fed into\n",
        "# the model. \n",
        "feature_layer = layers.DenseFeatures(feature_columns)\n",
        "\n",
        "# Print the first 3 and last 3 rows of the feature_layer's output when applied\n",
        "# to train_df_norm:\n",
        "feature_layer(dict(X_train))"
      ],
      "execution_count": 18,
      "outputs": [
        {
          "output_type": "execute_result",
          "data": {
            "text/plain": [
              "<tf.Tensor: shape=(691, 2), dtype=float32, numpy=\n",
              "array([[ 24.7,  96. ],\n",
              "       [ 30.8, 117. ],\n",
              "       [ 37.6, 110. ],\n",
              "       ...,\n",
              "       [ 45.6, 101. ],\n",
              "       [ 42.4, 141. ],\n",
              "       [ 22.5, 125. ]], dtype=float32)>"
            ]
          },
          "metadata": {
            "tags": []
          },
          "execution_count": 18
        }
      ]
    },
    {
      "cell_type": "code",
      "metadata": {
        "id": "GcQYLoEb7n96",
        "colab_type": "code",
        "outputId": "b7a40dd6-fc1c-4982-9372-d3cee3cfd677",
        "colab": {
          "base_uri": "https://localhost:8080/",
          "height": 34
        }
      },
      "source": [
        "def create_model(my_learning_rate, feature_layer, my_metrics):\n",
        "  \"\"\"Create and compile a simple classification model.\"\"\"\n",
        "  # Most simple tf.keras models are sequential.\n",
        "  model = tf.keras.models.Sequential()\n",
        "\n",
        "  # Add the feature layer (the list of features and how they are represented)\n",
        "  # to the model.\n",
        "  model.add(feature_layer)\n",
        "\n",
        "  # Funnel the regression value through a sigmoid function.\n",
        "  model.add(tf.keras.layers.Dense(units=1, input_shape=(1,),\n",
        "                                  activation=tf.sigmoid),)\n",
        "\n",
        "  # Call the compile method to construct the layers into a model that\n",
        "  # TensorFlow can execute.  Notice that we're using a different loss\n",
        "  # function for classification than for regression.    \n",
        "  model.compile(optimizer=tf.keras.optimizers.RMSprop(lr=my_learning_rate),                                                   \n",
        "                loss=tf.keras.losses.BinaryCrossentropy(),\n",
        "                metrics=my_metrics)\n",
        "\n",
        "  return model        \n",
        "\n",
        "\n",
        "def train_model(model, dataset, epochs, label_name,\n",
        "                batch_size=None, shuffle=True):\n",
        "  \"\"\"Feed a dataset into the model in order to train it.\"\"\"\n",
        "\n",
        "  # The x parameter of tf.keras.Model.fit can be a list of arrays, where\n",
        "  # each array contains the data for one feature.  Here, we're passing\n",
        "  # every column in the dataset. Note that the feature_layer will filter\n",
        "  # away most of those columns, leaving only the desired columns and their\n",
        "  # representations as features.\n",
        "  features = {name:np.array(value) for name, value in dataset.items()}\n",
        "  label = np.array(features.pop(label_name)) \n",
        "  history = model.fit(x=features, y=label, batch_size=batch_size,\n",
        "                      epochs=epochs, shuffle=shuffle)\n",
        "  \n",
        "  # The list of epochs is stored separately from the rest of history.\n",
        "  epochs = history.epoch\n",
        "\n",
        "  # Isolate the classification metric for each epoch.\n",
        "  hist = pd.DataFrame(history.history)\n",
        "\n",
        "  return epochs, hist  \n",
        "\n",
        "print(\"Defined the create_model and train_model functions.\")  "
      ],
      "execution_count": 14,
      "outputs": [
        {
          "output_type": "stream",
          "text": [
            "Defined the create_model and train_model functions.\n"
          ],
          "name": "stdout"
        }
      ]
    },
    {
      "cell_type": "code",
      "metadata": {
        "id": "Sw1s6lvE8P1b",
        "colab_type": "code",
        "outputId": "b991d262-22a2-4e6d-fe53-d74bc345a4b3",
        "colab": {
          "base_uri": "https://localhost:8080/",
          "height": 34
        }
      },
      "source": [
        "#@title Define the plotting function.\n",
        "def plot_curve(epochs, hist, list_of_metrics):\n",
        "  \"\"\"Plot a curve of one or more classification metrics vs. epoch.\"\"\"  \n",
        "  # list_of_metrics should be one of the names shown in:\n",
        "  # https://www.tensorflow.org/tutorials/structured_data/imbalanced_data#define_the_model_and_metrics  \n",
        "\n",
        "  plt.figure()\n",
        "  plt.xlabel(\"Epoch\")\n",
        "  plt.ylabel(\"Value\")\n",
        "\n",
        "  for m in list_of_metrics:\n",
        "    x = hist[m]\n",
        "    plt.plot(epochs[1:], x[1:], label=m)\n",
        "\n",
        "  plt.legend()\n",
        "\n",
        "print(\"Defined the plot_curve function.\")"
      ],
      "execution_count": 15,
      "outputs": [
        {
          "output_type": "stream",
          "text": [
            "Defined the plot_curve function.\n"
          ],
          "name": "stdout"
        }
      ]
    },
    {
      "cell_type": "code",
      "metadata": {
        "id": "qpS9Aq1t8TAR",
        "colab_type": "code",
        "outputId": "05eb5075-3db4-4d69-a98d-835f2aa184fd",
        "colab": {
          "base_uri": "https://localhost:8080/",
          "height": 1000
        }
      },
      "source": [
        "# The following variables are the hyperparameters.\n",
        "learning_rate = 1\n",
        "epochs = 300\n",
        "batch_size = 10\n",
        "label_name = \"Outcome\"\n",
        "classification_threshold = 0.5\n",
        "\n",
        "# Establish the metrics the model will measure.\n",
        "METRICS = [\n",
        "           tf.keras.metrics.BinaryAccuracy(name='accuracy', \n",
        "                                           threshold=classification_threshold),\n",
        "           tf.keras.metrics.Precision(thresholds=classification_threshold,\n",
        "                                 name='precision' \n",
        "                                 ),\n",
        "           tf.keras.metrics.Recall(thresholds=classification_threshold,\n",
        "                                 name='recall' \n",
        "                                 ),\n",
        "          ]\n",
        "\n",
        "# Establish the model's topography.\n",
        "my_model = create_model(learning_rate, feature_layer, METRICS)\n",
        "\n",
        "# Train the model on the training set.\n",
        "epochs, hist = train_model(my_model, X_train, epochs, \n",
        "                           label_name, batch_size)\n",
        "\n",
        "# Plot a graph of the metric(s) vs. epochs.\n",
        "list_of_metrics_to_plot = ['accuracy', 'precision', 'recall'] \n",
        "\n",
        "plot_curve(epochs, hist, list_of_metrics_to_plot)"
      ],
      "execution_count": 19,
      "outputs": [
        {
          "output_type": "stream",
          "text": [
            "Epoch 1/300\n",
            "70/70 [==============================] - 0s 1ms/step - loss: 50.3002 - accuracy: 0.4805 - precision: 0.2908 - recall: 0.3402\n",
            "Epoch 2/300\n",
            "70/70 [==============================] - 0s 1ms/step - loss: 35.5430 - accuracy: 0.5195 - precision: 0.3436 - recall: 0.4149\n",
            "Epoch 3/300\n",
            "70/70 [==============================] - 0s 1ms/step - loss: 38.2190 - accuracy: 0.5340 - precision: 0.3538 - recall: 0.4066\n",
            "Epoch 4/300\n",
            "70/70 [==============================] - 0s 1ms/step - loss: 34.6063 - accuracy: 0.5673 - precision: 0.3942 - recall: 0.4481\n",
            "Epoch 5/300\n",
            "70/70 [==============================] - 0s 1ms/step - loss: 37.0810 - accuracy: 0.5384 - precision: 0.3534 - recall: 0.3900\n",
            "Epoch 6/300\n",
            "70/70 [==============================] - 0s 1ms/step - loss: 38.1138 - accuracy: 0.5210 - precision: 0.3370 - recall: 0.3859\n",
            "Epoch 7/300\n",
            "70/70 [==============================] - 0s 1ms/step - loss: 36.4381 - accuracy: 0.5456 - precision: 0.3623 - recall: 0.3983\n",
            "Epoch 8/300\n",
            "70/70 [==============================] - 0s 1ms/step - loss: 33.1427 - accuracy: 0.5427 - precision: 0.3675 - recall: 0.4315\n",
            "Epoch 9/300\n",
            "70/70 [==============================] - 0s 1ms/step - loss: 33.0410 - accuracy: 0.5818 - precision: 0.4084 - recall: 0.4440\n",
            "Epoch 10/300\n",
            "70/70 [==============================] - 0s 1ms/step - loss: 33.1016 - accuracy: 0.5774 - precision: 0.4023 - recall: 0.4357\n",
            "Epoch 11/300\n",
            "70/70 [==============================] - 0s 1ms/step - loss: 32.2618 - accuracy: 0.5456 - precision: 0.3701 - recall: 0.4315\n",
            "Epoch 12/300\n",
            "70/70 [==============================] - 0s 1ms/step - loss: 31.8420 - accuracy: 0.5948 - precision: 0.4259 - recall: 0.4647\n",
            "Epoch 13/300\n",
            "70/70 [==============================] - 0s 2ms/step - loss: 37.4734 - accuracy: 0.5109 - precision: 0.3310 - recall: 0.3942\n",
            "Epoch 14/300\n",
            "70/70 [==============================] - 0s 2ms/step - loss: 30.9196 - accuracy: 0.5658 - precision: 0.3895 - recall: 0.4315\n",
            "Epoch 15/300\n",
            "70/70 [==============================] - 0s 1ms/step - loss: 33.0204 - accuracy: 0.5644 - precision: 0.3855 - recall: 0.4191\n",
            "Epoch 16/300\n",
            "70/70 [==============================] - 0s 2ms/step - loss: 35.8585 - accuracy: 0.5441 - precision: 0.3555 - recall: 0.3776\n",
            "Epoch 17/300\n",
            "70/70 [==============================] - 0s 1ms/step - loss: 35.1549 - accuracy: 0.5470 - precision: 0.3714 - recall: 0.4315\n",
            "Epoch 18/300\n",
            "70/70 [==============================] - 0s 1ms/step - loss: 33.5939 - accuracy: 0.5586 - precision: 0.3841 - recall: 0.4398\n",
            "Epoch 19/300\n",
            "70/70 [==============================] - 0s 1ms/step - loss: 32.7786 - accuracy: 0.5586 - precision: 0.3824 - recall: 0.4315\n",
            "Epoch 20/300\n",
            "70/70 [==============================] - 0s 1ms/step - loss: 30.2337 - accuracy: 0.5933 - precision: 0.4242 - recall: 0.4647\n",
            "Epoch 21/300\n",
            "70/70 [==============================] - 0s 1ms/step - loss: 33.4040 - accuracy: 0.5948 - precision: 0.4264 - recall: 0.4689\n",
            "Epoch 22/300\n",
            "70/70 [==============================] - 0s 1ms/step - loss: 32.2759 - accuracy: 0.5644 - precision: 0.3881 - recall: 0.4315\n",
            "Epoch 23/300\n",
            "70/70 [==============================] - 0s 1ms/step - loss: 30.2569 - accuracy: 0.5818 - precision: 0.4098 - recall: 0.4523\n",
            "Epoch 24/300\n",
            "70/70 [==============================] - 0s 1ms/step - loss: 31.2087 - accuracy: 0.5745 - precision: 0.4015 - recall: 0.4481\n",
            "Epoch 25/300\n",
            "70/70 [==============================] - 0s 2ms/step - loss: 30.4666 - accuracy: 0.5818 - precision: 0.4104 - recall: 0.4564\n",
            "Epoch 26/300\n",
            "70/70 [==============================] - 0s 1ms/step - loss: 30.5872 - accuracy: 0.6295 - precision: 0.4701 - recall: 0.4896\n",
            "Epoch 27/300\n",
            "70/70 [==============================] - 0s 1ms/step - loss: 29.9436 - accuracy: 0.6006 - precision: 0.4340 - recall: 0.4772\n",
            "Epoch 28/300\n",
            "70/70 [==============================] - 0s 1ms/step - loss: 32.1941 - accuracy: 0.5702 - precision: 0.3939 - recall: 0.4315\n",
            "Epoch 29/300\n",
            "70/70 [==============================] - 0s 1ms/step - loss: 34.6527 - accuracy: 0.5514 - precision: 0.3717 - recall: 0.4149\n",
            "Epoch 30/300\n",
            "70/70 [==============================] - 0s 1ms/step - loss: 29.2280 - accuracy: 0.5847 - precision: 0.4129 - recall: 0.4523\n",
            "Epoch 31/300\n",
            "70/70 [==============================] - 0s 1ms/step - loss: 26.4605 - accuracy: 0.6194 - precision: 0.4577 - recall: 0.4938\n",
            "Epoch 32/300\n",
            "70/70 [==============================] - 0s 2ms/step - loss: 30.5961 - accuracy: 0.5904 - precision: 0.4192 - recall: 0.4523\n",
            "Epoch 33/300\n",
            "70/70 [==============================] - 0s 1ms/step - loss: 27.7857 - accuracy: 0.6006 - precision: 0.4359 - recall: 0.4938\n",
            "Epoch 34/300\n",
            "70/70 [==============================] - 0s 1ms/step - loss: 30.7141 - accuracy: 0.5948 - precision: 0.4241 - recall: 0.4523\n",
            "Epoch 35/300\n",
            "70/70 [==============================] - 0s 1ms/step - loss: 29.8633 - accuracy: 0.6093 - precision: 0.4427 - recall: 0.4647\n",
            "Epoch 36/300\n",
            "70/70 [==============================] - 0s 2ms/step - loss: 33.1181 - accuracy: 0.5716 - precision: 0.3985 - recall: 0.4481\n",
            "Epoch 37/300\n",
            "70/70 [==============================] - 0s 1ms/step - loss: 25.1631 - accuracy: 0.6223 - precision: 0.4621 - recall: 0.5062\n",
            "Epoch 38/300\n",
            "70/70 [==============================] - 0s 1ms/step - loss: 32.5314 - accuracy: 0.5731 - precision: 0.3969 - recall: 0.4315\n",
            "Epoch 39/300\n",
            "70/70 [==============================] - 0s 1ms/step - loss: 29.8019 - accuracy: 0.5948 - precision: 0.4235 - recall: 0.4481\n",
            "Epoch 40/300\n",
            "70/70 [==============================] - 0s 1ms/step - loss: 30.8560 - accuracy: 0.6035 - precision: 0.4363 - recall: 0.4689\n",
            "Epoch 41/300\n",
            "70/70 [==============================] - 0s 1ms/step - loss: 30.0117 - accuracy: 0.6064 - precision: 0.4411 - recall: 0.4813\n",
            "Epoch 42/300\n",
            "70/70 [==============================] - 0s 1ms/step - loss: 26.8823 - accuracy: 0.6295 - precision: 0.4704 - recall: 0.4938\n",
            "Epoch 43/300\n",
            "70/70 [==============================] - 0s 1ms/step - loss: 28.1387 - accuracy: 0.6194 - precision: 0.4567 - recall: 0.4813\n",
            "Epoch 44/300\n",
            "70/70 [==============================] - 0s 1ms/step - loss: 31.5961 - accuracy: 0.5847 - precision: 0.4129 - recall: 0.4523\n",
            "Epoch 45/300\n",
            "70/70 [==============================] - 0s 1ms/step - loss: 26.2160 - accuracy: 0.6237 - precision: 0.4642 - recall: 0.5104\n",
            "Epoch 46/300\n",
            "70/70 [==============================] - 0s 1ms/step - loss: 28.7049 - accuracy: 0.6049 - precision: 0.4365 - recall: 0.4564\n",
            "Epoch 47/300\n",
            "70/70 [==============================] - 0s 1ms/step - loss: 28.7987 - accuracy: 0.5962 - precision: 0.4246 - recall: 0.4440\n",
            "Epoch 48/300\n",
            "70/70 [==============================] - 0s 1ms/step - loss: 28.7920 - accuracy: 0.5991 - precision: 0.4297 - recall: 0.4564\n",
            "Epoch 49/300\n",
            "70/70 [==============================] - 0s 1ms/step - loss: 28.1779 - accuracy: 0.6223 - precision: 0.4597 - recall: 0.4730\n",
            "Epoch 50/300\n",
            "70/70 [==============================] - 0s 1ms/step - loss: 28.1688 - accuracy: 0.6208 - precision: 0.4601 - recall: 0.5021\n",
            "Epoch 51/300\n",
            "70/70 [==============================] - 0s 1ms/step - loss: 27.8310 - accuracy: 0.6006 - precision: 0.4319 - recall: 0.4606\n",
            "Epoch 52/300\n",
            "70/70 [==============================] - 0s 1ms/step - loss: 30.0221 - accuracy: 0.6208 - precision: 0.4564 - recall: 0.4564\n",
            "Epoch 53/300\n",
            "70/70 [==============================] - 0s 1ms/step - loss: 26.8392 - accuracy: 0.6107 - precision: 0.4449 - recall: 0.4689\n",
            "Epoch 54/300\n",
            "70/70 [==============================] - 0s 1ms/step - loss: 30.3918 - accuracy: 0.5919 - precision: 0.4226 - recall: 0.4647\n",
            "Epoch 55/300\n",
            "70/70 [==============================] - 0s 1ms/step - loss: 28.2616 - accuracy: 0.5991 - precision: 0.4286 - recall: 0.4481\n",
            "Epoch 56/300\n",
            "70/70 [==============================] - 0s 1ms/step - loss: 28.7254 - accuracy: 0.6078 - precision: 0.4436 - recall: 0.4896\n",
            "Epoch 57/300\n",
            "70/70 [==============================] - 0s 1ms/step - loss: 28.3069 - accuracy: 0.5991 - precision: 0.4308 - recall: 0.4647\n",
            "Epoch 58/300\n",
            "70/70 [==============================] - 0s 1ms/step - loss: 29.3306 - accuracy: 0.6194 - precision: 0.4549 - recall: 0.4606\n",
            "Epoch 59/300\n",
            "70/70 [==============================] - 0s 1ms/step - loss: 28.9361 - accuracy: 0.6310 - precision: 0.4722 - recall: 0.4938\n",
            "Epoch 60/300\n",
            "70/70 [==============================] - 0s 1ms/step - loss: 26.1934 - accuracy: 0.6151 - precision: 0.4525 - recall: 0.4938\n",
            "Epoch 61/300\n",
            "70/70 [==============================] - 0s 1ms/step - loss: 31.0602 - accuracy: 0.6165 - precision: 0.4516 - recall: 0.4647\n",
            "Epoch 62/300\n",
            "70/70 [==============================] - 0s 1ms/step - loss: 25.0486 - accuracy: 0.6194 - precision: 0.4583 - recall: 0.5021\n",
            "Epoch 63/300\n",
            "70/70 [==============================] - 0s 1ms/step - loss: 33.1516 - accuracy: 0.6020 - precision: 0.4336 - recall: 0.4606\n",
            "Epoch 64/300\n",
            "70/70 [==============================] - 0s 1ms/step - loss: 26.5701 - accuracy: 0.5933 - precision: 0.4248 - recall: 0.4689\n",
            "Epoch 65/300\n",
            "70/70 [==============================] - 0s 2ms/step - loss: 30.3075 - accuracy: 0.6122 - precision: 0.4458 - recall: 0.4606\n",
            "Epoch 66/300\n",
            "70/70 [==============================] - 0s 2ms/step - loss: 26.7694 - accuracy: 0.6498 - precision: 0.4979 - recall: 0.4979\n",
            "Epoch 67/300\n",
            "70/70 [==============================] - 0s 2ms/step - loss: 24.6095 - accuracy: 0.6353 - precision: 0.4784 - recall: 0.5062\n",
            "Epoch 68/300\n",
            "70/70 [==============================] - 0s 1ms/step - loss: 29.2875 - accuracy: 0.6179 - precision: 0.4519 - recall: 0.4481\n",
            "Epoch 69/300\n",
            "70/70 [==============================] - 0s 1ms/step - loss: 29.9562 - accuracy: 0.6136 - precision: 0.4508 - recall: 0.4938\n",
            "Epoch 70/300\n",
            "70/70 [==============================] - 0s 1ms/step - loss: 26.2904 - accuracy: 0.6295 - precision: 0.4699 - recall: 0.4855\n",
            "Epoch 71/300\n",
            "70/70 [==============================] - 0s 1ms/step - loss: 26.8885 - accuracy: 0.6469 - precision: 0.4941 - recall: 0.5187\n",
            "Epoch 72/300\n",
            "70/70 [==============================] - 0s 1ms/step - loss: 29.2182 - accuracy: 0.5818 - precision: 0.4104 - recall: 0.4564\n",
            "Epoch 73/300\n",
            "70/70 [==============================] - 0s 1ms/step - loss: 27.8183 - accuracy: 0.6397 - precision: 0.4836 - recall: 0.4896\n",
            "Epoch 74/300\n",
            "70/70 [==============================] - 0s 1ms/step - loss: 31.3487 - accuracy: 0.5933 - precision: 0.4219 - recall: 0.4481\n",
            "Epoch 75/300\n",
            "70/70 [==============================] - 0s 1ms/step - loss: 25.9719 - accuracy: 0.6194 - precision: 0.4560 - recall: 0.4730\n",
            "Epoch 76/300\n",
            "70/70 [==============================] - 0s 1ms/step - loss: 25.4796 - accuracy: 0.6397 - precision: 0.4837 - recall: 0.4938\n",
            "Epoch 77/300\n",
            "70/70 [==============================] - 0s 1ms/step - loss: 29.4840 - accuracy: 0.6469 - precision: 0.4939 - recall: 0.5021\n",
            "Epoch 78/300\n",
            "70/70 [==============================] - 0s 1ms/step - loss: 25.4918 - accuracy: 0.6411 - precision: 0.4861 - recall: 0.5062\n",
            "Epoch 79/300\n",
            "70/70 [==============================] - 0s 1ms/step - loss: 27.1882 - accuracy: 0.6382 - precision: 0.4819 - recall: 0.4979\n",
            "Epoch 80/300\n",
            "70/70 [==============================] - 0s 1ms/step - loss: 30.9810 - accuracy: 0.6165 - precision: 0.4516 - recall: 0.4647\n",
            "Epoch 81/300\n",
            "70/70 [==============================] - 0s 1ms/step - loss: 26.9937 - accuracy: 0.6049 - precision: 0.4385 - recall: 0.4730\n",
            "Epoch 82/300\n",
            "70/70 [==============================] - 0s 1ms/step - loss: 27.2488 - accuracy: 0.6237 - precision: 0.4615 - recall: 0.4730\n",
            "Epoch 83/300\n",
            "70/70 [==============================] - 0s 1ms/step - loss: 25.2610 - accuracy: 0.6570 - precision: 0.5080 - recall: 0.5270\n",
            "Epoch 84/300\n",
            "70/70 [==============================] - 0s 1ms/step - loss: 31.0322 - accuracy: 0.6397 - precision: 0.4835 - recall: 0.4855\n",
            "Epoch 85/300\n",
            "70/70 [==============================] - 0s 1ms/step - loss: 28.2827 - accuracy: 0.6425 - precision: 0.4875 - recall: 0.4855\n",
            "Epoch 86/300\n",
            "70/70 [==============================] - 0s 2ms/step - loss: 25.7506 - accuracy: 0.6483 - precision: 0.4960 - recall: 0.5104\n",
            "Epoch 87/300\n",
            "70/70 [==============================] - 0s 1ms/step - loss: 27.4036 - accuracy: 0.6425 - precision: 0.4880 - recall: 0.5062\n",
            "Epoch 88/300\n",
            "70/70 [==============================] - 0s 1ms/step - loss: 26.2048 - accuracy: 0.6440 - precision: 0.4899 - recall: 0.5021\n",
            "Epoch 89/300\n",
            "70/70 [==============================] - 0s 1ms/step - loss: 26.6015 - accuracy: 0.6469 - precision: 0.4943 - recall: 0.5353\n",
            "Epoch 90/300\n",
            "70/70 [==============================] - 0s 1ms/step - loss: 27.2210 - accuracy: 0.6541 - precision: 0.5041 - recall: 0.5145\n",
            "Epoch 91/300\n",
            "70/70 [==============================] - 0s 1ms/step - loss: 26.5509 - accuracy: 0.6585 - precision: 0.5106 - recall: 0.4979\n",
            "Epoch 92/300\n",
            "70/70 [==============================] - 0s 1ms/step - loss: 27.2715 - accuracy: 0.6397 - precision: 0.4837 - recall: 0.4938\n",
            "Epoch 93/300\n",
            "70/70 [==============================] - 0s 1ms/step - loss: 26.6764 - accuracy: 0.6425 - precision: 0.4880 - recall: 0.5062\n",
            "Epoch 94/300\n",
            "70/70 [==============================] - 0s 1ms/step - loss: 26.1755 - accuracy: 0.6469 - precision: 0.4939 - recall: 0.5062\n",
            "Epoch 95/300\n",
            "70/70 [==============================] - 0s 1ms/step - loss: 26.7919 - accuracy: 0.6382 - precision: 0.4819 - recall: 0.4979\n",
            "Epoch 96/300\n",
            "70/70 [==============================] - 0s 1ms/step - loss: 24.9261 - accuracy: 0.6266 - precision: 0.4667 - recall: 0.4938\n",
            "Epoch 97/300\n",
            "70/70 [==============================] - 0s 1ms/step - loss: 24.8377 - accuracy: 0.6657 - precision: 0.5203 - recall: 0.5311\n",
            "Epoch 98/300\n",
            "70/70 [==============================] - 0s 1ms/step - loss: 25.7849 - accuracy: 0.6425 - precision: 0.4881 - recall: 0.5104\n",
            "Epoch 99/300\n",
            "70/70 [==============================] - 0s 1ms/step - loss: 26.8519 - accuracy: 0.6266 - precision: 0.4659 - recall: 0.4813\n",
            "Epoch 100/300\n",
            "70/70 [==============================] - 0s 1ms/step - loss: 26.1515 - accuracy: 0.6570 - precision: 0.5080 - recall: 0.5270\n",
            "Epoch 101/300\n",
            "70/70 [==============================] - 0s 1ms/step - loss: 25.4115 - accuracy: 0.6671 - precision: 0.5217 - recall: 0.5477\n",
            "Epoch 102/300\n",
            "70/70 [==============================] - 0s 1ms/step - loss: 29.1524 - accuracy: 0.6339 - precision: 0.4760 - recall: 0.4938\n",
            "Epoch 103/300\n",
            "70/70 [==============================] - 0s 2ms/step - loss: 29.4468 - accuracy: 0.6498 - precision: 0.4978 - recall: 0.4730\n",
            "Epoch 104/300\n",
            "70/70 [==============================] - 0s 1ms/step - loss: 24.9534 - accuracy: 0.6382 - precision: 0.4825 - recall: 0.5145\n",
            "Epoch 105/300\n",
            "70/70 [==============================] - 0s 1ms/step - loss: 26.5434 - accuracy: 0.6440 - precision: 0.4900 - recall: 0.5104\n",
            "Epoch 106/300\n",
            "70/70 [==============================] - 0s 1ms/step - loss: 26.7214 - accuracy: 0.6469 - precision: 0.4942 - recall: 0.5270\n",
            "Epoch 107/300\n",
            "70/70 [==============================] - 0s 1ms/step - loss: 26.2388 - accuracy: 0.6237 - precision: 0.4615 - recall: 0.4730\n",
            "Epoch 108/300\n",
            "70/70 [==============================] - 0s 2ms/step - loss: 25.4206 - accuracy: 0.6527 - precision: 0.5021 - recall: 0.5021\n",
            "Epoch 109/300\n",
            "70/70 [==============================] - 0s 1ms/step - loss: 25.1958 - accuracy: 0.6425 - precision: 0.4881 - recall: 0.5104\n",
            "Epoch 110/300\n",
            "70/70 [==============================] - 0s 1ms/step - loss: 27.1877 - accuracy: 0.6397 - precision: 0.4835 - recall: 0.4855\n",
            "Epoch 111/300\n",
            "70/70 [==============================] - 0s 1ms/step - loss: 27.9176 - accuracy: 0.6252 - precision: 0.4643 - recall: 0.4855\n",
            "Epoch 112/300\n",
            "70/70 [==============================] - 0s 1ms/step - loss: 24.5280 - accuracy: 0.6643 - precision: 0.5185 - recall: 0.5228\n",
            "Epoch 113/300\n",
            "70/70 [==============================] - 0s 1ms/step - loss: 29.0004 - accuracy: 0.6498 - precision: 0.4979 - recall: 0.5021\n",
            "Epoch 114/300\n",
            "70/70 [==============================] - 0s 1ms/step - loss: 28.3186 - accuracy: 0.6556 - precision: 0.5060 - recall: 0.5270\n",
            "Epoch 115/300\n",
            "70/70 [==============================] - 0s 1ms/step - loss: 26.5932 - accuracy: 0.6643 - precision: 0.5179 - recall: 0.5394\n",
            "Epoch 116/300\n",
            "70/70 [==============================] - 0s 1ms/step - loss: 25.9440 - accuracy: 0.6353 - precision: 0.4777 - recall: 0.4896\n",
            "Epoch 117/300\n",
            "70/70 [==============================] - 0s 1ms/step - loss: 23.6704 - accuracy: 0.6729 - precision: 0.5304 - recall: 0.5436\n",
            "Epoch 118/300\n",
            "70/70 [==============================] - 0s 1ms/step - loss: 28.7257 - accuracy: 0.6397 - precision: 0.4837 - recall: 0.4938\n",
            "Epoch 119/300\n",
            "70/70 [==============================] - 0s 1ms/step - loss: 28.9662 - accuracy: 0.6266 - precision: 0.4638 - recall: 0.4523\n",
            "Epoch 120/300\n",
            "70/70 [==============================] - 0s 1ms/step - loss: 28.5526 - accuracy: 0.6237 - precision: 0.4612 - recall: 0.4689\n",
            "Epoch 121/300\n",
            "70/70 [==============================] - 0s 1ms/step - loss: 27.0980 - accuracy: 0.6512 - precision: 0.5000 - recall: 0.5145\n",
            "Epoch 122/300\n",
            "70/70 [==============================] - 0s 1ms/step - loss: 26.0548 - accuracy: 0.6310 - precision: 0.4722 - recall: 0.4938\n",
            "Epoch 123/300\n",
            "70/70 [==============================] - 0s 2ms/step - loss: 26.8689 - accuracy: 0.6411 - precision: 0.4858 - recall: 0.4979\n",
            "Epoch 124/300\n",
            "70/70 [==============================] - 0s 1ms/step - loss: 26.3096 - accuracy: 0.6483 - precision: 0.4960 - recall: 0.5104\n",
            "Epoch 125/300\n",
            "70/70 [==============================] - 0s 1ms/step - loss: 25.4907 - accuracy: 0.6700 - precision: 0.5267 - recall: 0.5311\n",
            "Epoch 126/300\n",
            "70/70 [==============================] - 0s 2ms/step - loss: 24.7430 - accuracy: 0.6614 - precision: 0.5141 - recall: 0.5311\n",
            "Epoch 127/300\n",
            "70/70 [==============================] - 0s 1ms/step - loss: 25.9506 - accuracy: 0.6556 - precision: 0.5061 - recall: 0.5145\n",
            "Epoch 128/300\n",
            "70/70 [==============================] - 0s 1ms/step - loss: 26.9095 - accuracy: 0.6556 - precision: 0.5060 - recall: 0.5228\n",
            "Epoch 129/300\n",
            "70/70 [==============================] - 0s 1ms/step - loss: 30.1557 - accuracy: 0.6049 - precision: 0.4339 - recall: 0.4357\n",
            "Epoch 130/300\n",
            "70/70 [==============================] - 0s 1ms/step - loss: 28.3634 - accuracy: 0.6208 - precision: 0.4578 - recall: 0.4730\n",
            "Epoch 131/300\n",
            "70/70 [==============================] - 0s 1ms/step - loss: 27.8490 - accuracy: 0.6440 - precision: 0.4897 - recall: 0.4938\n",
            "Epoch 132/300\n",
            "70/70 [==============================] - 0s 1ms/step - loss: 26.9591 - accuracy: 0.6614 - precision: 0.5143 - recall: 0.5228\n",
            "Epoch 133/300\n",
            "70/70 [==============================] - 0s 1ms/step - loss: 26.3039 - accuracy: 0.6498 - precision: 0.4979 - recall: 0.5021\n",
            "Epoch 134/300\n",
            "70/70 [==============================] - 0s 1ms/step - loss: 26.4106 - accuracy: 0.6585 - precision: 0.5100 - recall: 0.5270\n",
            "Epoch 135/300\n",
            "70/70 [==============================] - 0s 1ms/step - loss: 25.6917 - accuracy: 0.6541 - precision: 0.5040 - recall: 0.5228\n",
            "Epoch 136/300\n",
            "70/70 [==============================] - 0s 1ms/step - loss: 26.8995 - accuracy: 0.6671 - precision: 0.5226 - recall: 0.5270\n",
            "Epoch 137/300\n",
            "70/70 [==============================] - 0s 1ms/step - loss: 29.4985 - accuracy: 0.6208 - precision: 0.4595 - recall: 0.4938\n",
            "Epoch 138/300\n",
            "70/70 [==============================] - 0s 1ms/step - loss: 26.2819 - accuracy: 0.6353 - precision: 0.4777 - recall: 0.4896\n",
            "Epoch 139/300\n",
            "70/70 [==============================] - 0s 1ms/step - loss: 24.7921 - accuracy: 0.6758 - precision: 0.5347 - recall: 0.5436\n",
            "Epoch 140/300\n",
            "70/70 [==============================] - 0s 1ms/step - loss: 27.1909 - accuracy: 0.6440 - precision: 0.4899 - recall: 0.5021\n",
            "Epoch 141/300\n",
            "70/70 [==============================] - 0s 1ms/step - loss: 26.7067 - accuracy: 0.6628 - precision: 0.5161 - recall: 0.5311\n",
            "Epoch 142/300\n",
            "70/70 [==============================] - 0s 1ms/step - loss: 25.9601 - accuracy: 0.6599 - precision: 0.5122 - recall: 0.5228\n",
            "Epoch 143/300\n",
            "70/70 [==============================] - 0s 1ms/step - loss: 26.2258 - accuracy: 0.6802 - precision: 0.5407 - recall: 0.5519\n",
            "Epoch 144/300\n",
            "70/70 [==============================] - 0s 1ms/step - loss: 26.2112 - accuracy: 0.6339 - precision: 0.4769 - recall: 0.5145\n",
            "Epoch 145/300\n",
            "70/70 [==============================] - 0s 1ms/step - loss: 24.1446 - accuracy: 0.6671 - precision: 0.5228 - recall: 0.5228\n",
            "Epoch 146/300\n",
            "70/70 [==============================] - 0s 1ms/step - loss: 31.5170 - accuracy: 0.6498 - precision: 0.4980 - recall: 0.5270\n",
            "Epoch 147/300\n",
            "70/70 [==============================] - 0s 1ms/step - loss: 27.2317 - accuracy: 0.6570 - precision: 0.5080 - recall: 0.5270\n",
            "Epoch 148/300\n",
            "70/70 [==============================] - 0s 1ms/step - loss: 27.8981 - accuracy: 0.6266 - precision: 0.4659 - recall: 0.4813\n",
            "Epoch 149/300\n",
            "70/70 [==============================] - 0s 1ms/step - loss: 26.5226 - accuracy: 0.6295 - precision: 0.4699 - recall: 0.4855\n",
            "Epoch 150/300\n",
            "70/70 [==============================] - 0s 1ms/step - loss: 27.3884 - accuracy: 0.6527 - precision: 0.5021 - recall: 0.4979\n",
            "Epoch 151/300\n",
            "70/70 [==============================] - 0s 1ms/step - loss: 26.9953 - accuracy: 0.6657 - precision: 0.5203 - recall: 0.5311\n",
            "Epoch 152/300\n",
            "70/70 [==============================] - 0s 1ms/step - loss: 25.7708 - accuracy: 0.6773 - precision: 0.5372 - recall: 0.5394\n",
            "Epoch 153/300\n",
            "70/70 [==============================] - 0s 1ms/step - loss: 27.5804 - accuracy: 0.6194 - precision: 0.4560 - recall: 0.4730\n",
            "Epoch 154/300\n",
            "70/70 [==============================] - 0s 1ms/step - loss: 26.8202 - accuracy: 0.6483 - precision: 0.4961 - recall: 0.5270\n",
            "Epoch 155/300\n",
            "70/70 [==============================] - 0s 1ms/step - loss: 26.9797 - accuracy: 0.6512 - precision: 0.5000 - recall: 0.5145\n",
            "Epoch 156/300\n",
            "70/70 [==============================] - 0s 1ms/step - loss: 31.2270 - accuracy: 0.5832 - precision: 0.4078 - recall: 0.4315\n",
            "Epoch 157/300\n",
            "70/70 [==============================] - 0s 1ms/step - loss: 24.5295 - accuracy: 0.6556 - precision: 0.5062 - recall: 0.5062\n",
            "Epoch 158/300\n",
            "70/70 [==============================] - 0s 1ms/step - loss: 23.4067 - accuracy: 0.6614 - precision: 0.5141 - recall: 0.5311\n",
            "Epoch 159/300\n",
            "70/70 [==============================] - 0s 1ms/step - loss: 27.0343 - accuracy: 0.6585 - precision: 0.5103 - recall: 0.5145\n",
            "Epoch 160/300\n",
            "70/70 [==============================] - 0s 1ms/step - loss: 28.0093 - accuracy: 0.6339 - precision: 0.4758 - recall: 0.4896\n",
            "Epoch 161/300\n",
            "70/70 [==============================] - 0s 1ms/step - loss: 26.2384 - accuracy: 0.6512 - precision: 0.5000 - recall: 0.5311\n",
            "Epoch 162/300\n",
            "70/70 [==============================] - 0s 1ms/step - loss: 25.5304 - accuracy: 0.6860 - precision: 0.5504 - recall: 0.5436\n",
            "Epoch 163/300\n",
            "70/70 [==============================] - 0s 1ms/step - loss: 28.0157 - accuracy: 0.6382 - precision: 0.4813 - recall: 0.4813\n",
            "Epoch 164/300\n",
            "70/70 [==============================] - 0s 1ms/step - loss: 25.2827 - accuracy: 0.6454 - precision: 0.4919 - recall: 0.5062\n",
            "Epoch 165/300\n",
            "70/70 [==============================] - 0s 1ms/step - loss: 25.2620 - accuracy: 0.6440 - precision: 0.4897 - recall: 0.4938\n",
            "Epoch 166/300\n",
            "70/70 [==============================] - 0s 1ms/step - loss: 26.7101 - accuracy: 0.6585 - precision: 0.5097 - recall: 0.5436\n",
            "Epoch 167/300\n",
            "70/70 [==============================] - 0s 2ms/step - loss: 25.6374 - accuracy: 0.6903 - precision: 0.5560 - recall: 0.5560\n",
            "Epoch 168/300\n",
            "70/70 [==============================] - 0s 1ms/step - loss: 23.9714 - accuracy: 0.6628 - precision: 0.5161 - recall: 0.5311\n",
            "Epoch 169/300\n",
            "70/70 [==============================] - 0s 1ms/step - loss: 26.9489 - accuracy: 0.6628 - precision: 0.5171 - recall: 0.5021\n",
            "Epoch 170/300\n",
            "70/70 [==============================] - 0s 1ms/step - loss: 29.9728 - accuracy: 0.6194 - precision: 0.4580 - recall: 0.4979\n",
            "Epoch 171/300\n",
            "70/70 [==============================] - 0s 1ms/step - loss: 26.6389 - accuracy: 0.6483 - precision: 0.4958 - recall: 0.4896\n",
            "Epoch 172/300\n",
            "70/70 [==============================] - 0s 2ms/step - loss: 29.1144 - accuracy: 0.6266 - precision: 0.4650 - recall: 0.4689\n",
            "Epoch 173/300\n",
            "70/70 [==============================] - 0s 1ms/step - loss: 26.3737 - accuracy: 0.6599 - precision: 0.5125 - recall: 0.5104\n",
            "Epoch 174/300\n",
            "70/70 [==============================] - 0s 1ms/step - loss: 27.4234 - accuracy: 0.6527 - precision: 0.5020 - recall: 0.5104\n",
            "Epoch 175/300\n",
            "70/70 [==============================] - 0s 1ms/step - loss: 26.4241 - accuracy: 0.6744 - precision: 0.5345 - recall: 0.5145\n",
            "Epoch 176/300\n",
            "70/70 [==============================] - 0s 1ms/step - loss: 28.6024 - accuracy: 0.6122 - precision: 0.4440 - recall: 0.4440\n",
            "Epoch 177/300\n",
            "70/70 [==============================] - 0s 1ms/step - loss: 23.0844 - accuracy: 0.6744 - precision: 0.5317 - recall: 0.5560\n",
            "Epoch 178/300\n",
            "70/70 [==============================] - 0s 1ms/step - loss: 27.5066 - accuracy: 0.6397 - precision: 0.4836 - recall: 0.4896\n",
            "Epoch 179/300\n",
            "70/70 [==============================] - 0s 1ms/step - loss: 27.2784 - accuracy: 0.6411 - precision: 0.4861 - recall: 0.5062\n",
            "Epoch 180/300\n",
            "70/70 [==============================] - 0s 1ms/step - loss: 22.9075 - accuracy: 0.6874 - precision: 0.5510 - recall: 0.5602\n",
            "Epoch 181/300\n",
            "70/70 [==============================] - 0s 1ms/step - loss: 27.3766 - accuracy: 0.6368 - precision: 0.4793 - recall: 0.4813\n",
            "Epoch 182/300\n",
            "70/70 [==============================] - 0s 2ms/step - loss: 26.5695 - accuracy: 0.6324 - precision: 0.4737 - recall: 0.4855\n",
            "Epoch 183/300\n",
            "70/70 [==============================] - 0s 1ms/step - loss: 26.7323 - accuracy: 0.6773 - precision: 0.5363 - recall: 0.5519\n",
            "Epoch 184/300\n",
            "70/70 [==============================] - 0s 1ms/step - loss: 23.8912 - accuracy: 0.6671 - precision: 0.5224 - recall: 0.5311\n",
            "Epoch 185/300\n",
            "70/70 [==============================] - 0s 1ms/step - loss: 27.9837 - accuracy: 0.6382 - precision: 0.4818 - recall: 0.4938\n",
            "Epoch 186/300\n",
            "70/70 [==============================] - 0s 1ms/step - loss: 27.0060 - accuracy: 0.6614 - precision: 0.5143 - recall: 0.5228\n",
            "Epoch 187/300\n",
            "70/70 [==============================] - 0s 1ms/step - loss: 26.0028 - accuracy: 0.6454 - precision: 0.4918 - recall: 0.4979\n",
            "Epoch 188/300\n",
            "70/70 [==============================] - 0s 1ms/step - loss: 25.6806 - accuracy: 0.6585 - precision: 0.5100 - recall: 0.5311\n",
            "Epoch 189/300\n",
            "70/70 [==============================] - 0s 1ms/step - loss: 26.9143 - accuracy: 0.6671 - precision: 0.5226 - recall: 0.5270\n",
            "Epoch 190/300\n",
            "70/70 [==============================] - 0s 1ms/step - loss: 29.8087 - accuracy: 0.6483 - precision: 0.4957 - recall: 0.4813\n",
            "Epoch 191/300\n",
            "70/70 [==============================] - 0s 1ms/step - loss: 26.6889 - accuracy: 0.6512 - precision: 0.5000 - recall: 0.5270\n",
            "Epoch 192/300\n",
            "70/70 [==============================] - 0s 1ms/step - loss: 28.5195 - accuracy: 0.6671 - precision: 0.5216 - recall: 0.5519\n",
            "Epoch 193/300\n",
            "70/70 [==============================] - 0s 1ms/step - loss: 26.4998 - accuracy: 0.6744 - precision: 0.5345 - recall: 0.5145\n",
            "Epoch 194/300\n",
            "70/70 [==============================] - 0s 1ms/step - loss: 26.3342 - accuracy: 0.6324 - precision: 0.4737 - recall: 0.4855\n",
            "Epoch 195/300\n",
            "70/70 [==============================] - 0s 1ms/step - loss: 24.4215 - accuracy: 0.6614 - precision: 0.5142 - recall: 0.5270\n",
            "Epoch 196/300\n",
            "70/70 [==============================] - 0s 1ms/step - loss: 24.8055 - accuracy: 0.7004 - precision: 0.5726 - recall: 0.5560\n",
            "Epoch 197/300\n",
            "70/70 [==============================] - 0s 1ms/step - loss: 26.5487 - accuracy: 0.6483 - precision: 0.4959 - recall: 0.5062\n",
            "Epoch 198/300\n",
            "70/70 [==============================] - 0s 1ms/step - loss: 27.5735 - accuracy: 0.6773 - precision: 0.5375 - recall: 0.5353\n",
            "Epoch 199/300\n",
            "70/70 [==============================] - 0s 1ms/step - loss: 29.0624 - accuracy: 0.6527 - precision: 0.5021 - recall: 0.4896\n",
            "Epoch 200/300\n",
            "70/70 [==============================] - 0s 1ms/step - loss: 29.0854 - accuracy: 0.6643 - precision: 0.5187 - recall: 0.5187\n",
            "Epoch 201/300\n",
            "70/70 [==============================] - 0s 1ms/step - loss: 27.1280 - accuracy: 0.6382 - precision: 0.4812 - recall: 0.4772\n",
            "Epoch 202/300\n",
            "70/70 [==============================] - 0s 1ms/step - loss: 25.3841 - accuracy: 0.6614 - precision: 0.5144 - recall: 0.5187\n",
            "Epoch 203/300\n",
            "70/70 [==============================] - 0s 1ms/step - loss: 27.7282 - accuracy: 0.6498 - precision: 0.4979 - recall: 0.4938\n",
            "Epoch 204/300\n",
            "70/70 [==============================] - 0s 1ms/step - loss: 26.8598 - accuracy: 0.6527 - precision: 0.5021 - recall: 0.5062\n",
            "Epoch 205/300\n",
            "70/70 [==============================] - 0s 1ms/step - loss: 26.3559 - accuracy: 0.6599 - precision: 0.5124 - recall: 0.5145\n",
            "Epoch 206/300\n",
            "70/70 [==============================] - 0s 1ms/step - loss: 25.0844 - accuracy: 0.6643 - precision: 0.5184 - recall: 0.5270\n",
            "Epoch 207/300\n",
            "70/70 [==============================] - 0s 1ms/step - loss: 27.6546 - accuracy: 0.6556 - precision: 0.5062 - recall: 0.5104\n",
            "Epoch 208/300\n",
            "70/70 [==============================] - 0s 1ms/step - loss: 27.8213 - accuracy: 0.6570 - precision: 0.5081 - recall: 0.5187\n",
            "Epoch 209/300\n",
            "70/70 [==============================] - 0s 1ms/step - loss: 27.2620 - accuracy: 0.6570 - precision: 0.5083 - recall: 0.5104\n",
            "Epoch 210/300\n",
            "70/70 [==============================] - 0s 1ms/step - loss: 24.2442 - accuracy: 0.6686 - precision: 0.5244 - recall: 0.5353\n",
            "Epoch 211/300\n",
            "70/70 [==============================] - 0s 1ms/step - loss: 27.0745 - accuracy: 0.6541 - precision: 0.5041 - recall: 0.5145\n",
            "Epoch 212/300\n",
            "70/70 [==============================] - 0s 1ms/step - loss: 25.8499 - accuracy: 0.6628 - precision: 0.5174 - recall: 0.4938\n",
            "Epoch 213/300\n",
            "70/70 [==============================] - 0s 1ms/step - loss: 27.9605 - accuracy: 0.6527 - precision: 0.5020 - recall: 0.5145\n",
            "Epoch 214/300\n",
            "70/70 [==============================] - 0s 1ms/step - loss: 28.3303 - accuracy: 0.6686 - precision: 0.5254 - recall: 0.5145\n",
            "Epoch 215/300\n",
            "70/70 [==============================] - 0s 1ms/step - loss: 27.8307 - accuracy: 0.6469 - precision: 0.4938 - recall: 0.4979\n",
            "Epoch 216/300\n",
            "70/70 [==============================] - 0s 1ms/step - loss: 26.7464 - accuracy: 0.6816 - precision: 0.5425 - recall: 0.5560\n",
            "Epoch 217/300\n",
            "70/70 [==============================] - 0s 1ms/step - loss: 27.5137 - accuracy: 0.6339 - precision: 0.4766 - recall: 0.5062\n",
            "Epoch 218/300\n",
            "70/70 [==============================] - 0s 1ms/step - loss: 26.7938 - accuracy: 0.6454 - precision: 0.4914 - recall: 0.4730\n",
            "Epoch 219/300\n",
            "70/70 [==============================] - 0s 2ms/step - loss: 28.3806 - accuracy: 0.6483 - precision: 0.4958 - recall: 0.4938\n",
            "Epoch 220/300\n",
            "70/70 [==============================] - 0s 1ms/step - loss: 27.5538 - accuracy: 0.6541 - precision: 0.5041 - recall: 0.5145\n",
            "Epoch 221/300\n",
            "70/70 [==============================] - 0s 1ms/step - loss: 25.6576 - accuracy: 0.6527 - precision: 0.5020 - recall: 0.5145\n",
            "Epoch 222/300\n",
            "70/70 [==============================] - 0s 1ms/step - loss: 26.6294 - accuracy: 0.6657 - precision: 0.5197 - recall: 0.5477\n",
            "Epoch 223/300\n",
            "70/70 [==============================] - 0s 1ms/step - loss: 24.4828 - accuracy: 0.6816 - precision: 0.5429 - recall: 0.5519\n",
            "Epoch 224/300\n",
            "70/70 [==============================] - 0s 1ms/step - loss: 24.4112 - accuracy: 0.6787 - precision: 0.5388 - recall: 0.5477\n",
            "Epoch 225/300\n",
            "70/70 [==============================] - 0s 1ms/step - loss: 28.3674 - accuracy: 0.6483 - precision: 0.4958 - recall: 0.4855\n",
            "Epoch 226/300\n",
            "70/70 [==============================] - 0s 1ms/step - loss: 27.1260 - accuracy: 0.6541 - precision: 0.5040 - recall: 0.5270\n",
            "Epoch 227/300\n",
            "70/70 [==============================] - 0s 1ms/step - loss: 28.5655 - accuracy: 0.6324 - precision: 0.4735 - recall: 0.4813\n",
            "Epoch 228/300\n",
            "70/70 [==============================] - 0s 2ms/step - loss: 26.8800 - accuracy: 0.6469 - precision: 0.4939 - recall: 0.5062\n",
            "Epoch 229/300\n",
            "70/70 [==============================] - 0s 1ms/step - loss: 24.8588 - accuracy: 0.6614 - precision: 0.5144 - recall: 0.5187\n",
            "Epoch 230/300\n",
            "70/70 [==============================] - 0s 2ms/step - loss: 28.3341 - accuracy: 0.6310 - precision: 0.4715 - recall: 0.4813\n",
            "Epoch 231/300\n",
            "70/70 [==============================] - 0s 1ms/step - loss: 25.5438 - accuracy: 0.6411 - precision: 0.4859 - recall: 0.5021\n",
            "Epoch 232/300\n",
            "70/70 [==============================] - 0s 1ms/step - loss: 28.5236 - accuracy: 0.6368 - precision: 0.4797 - recall: 0.4896\n",
            "Epoch 233/300\n",
            "70/70 [==============================] - 0s 1ms/step - loss: 25.5198 - accuracy: 0.6454 - precision: 0.4919 - recall: 0.5021\n",
            "Epoch 234/300\n",
            "70/70 [==============================] - 0s 1ms/step - loss: 25.6011 - accuracy: 0.6831 - precision: 0.5466 - recall: 0.5353\n",
            "Epoch 235/300\n",
            "70/70 [==============================] - 0s 1ms/step - loss: 28.3897 - accuracy: 0.6440 - precision: 0.4897 - recall: 0.4938\n",
            "Epoch 236/300\n",
            "70/70 [==============================] - 0s 1ms/step - loss: 21.7834 - accuracy: 0.6961 - precision: 0.5660 - recall: 0.5519\n",
            "Epoch 237/300\n",
            "70/70 [==============================] - 0s 1ms/step - loss: 29.0653 - accuracy: 0.6628 - precision: 0.5171 - recall: 0.5021\n",
            "Epoch 238/300\n",
            "70/70 [==============================] - 0s 1ms/step - loss: 28.8795 - accuracy: 0.6469 - precision: 0.4942 - recall: 0.5311\n",
            "Epoch 239/300\n",
            "70/70 [==============================] - 0s 1ms/step - loss: 26.9036 - accuracy: 0.6411 - precision: 0.4857 - recall: 0.4938\n",
            "Epoch 240/300\n",
            "70/70 [==============================] - 0s 1ms/step - loss: 28.0002 - accuracy: 0.6614 - precision: 0.5143 - recall: 0.5228\n",
            "Epoch 241/300\n",
            "70/70 [==============================] - 0s 1ms/step - loss: 25.5079 - accuracy: 0.6744 - precision: 0.5328 - recall: 0.5394\n",
            "Epoch 242/300\n",
            "70/70 [==============================] - 0s 1ms/step - loss: 26.7377 - accuracy: 0.6628 - precision: 0.5164 - recall: 0.5228\n",
            "Epoch 243/300\n",
            "70/70 [==============================] - 0s 1ms/step - loss: 30.4213 - accuracy: 0.6310 - precision: 0.4711 - recall: 0.4730\n",
            "Epoch 244/300\n",
            "70/70 [==============================] - 0s 1ms/step - loss: 27.5964 - accuracy: 0.6397 - precision: 0.4836 - recall: 0.4896\n",
            "Epoch 245/300\n",
            "70/70 [==============================] - 0s 1ms/step - loss: 27.3519 - accuracy: 0.6368 - precision: 0.4797 - recall: 0.4896\n",
            "Epoch 246/300\n",
            "70/70 [==============================] - 0s 1ms/step - loss: 27.9621 - accuracy: 0.6223 - precision: 0.4612 - recall: 0.4938\n",
            "Epoch 247/300\n",
            "70/70 [==============================] - 0s 1ms/step - loss: 26.8241 - accuracy: 0.6657 - precision: 0.5207 - recall: 0.5228\n",
            "Epoch 248/300\n",
            "70/70 [==============================] - 0s 2ms/step - loss: 26.6977 - accuracy: 0.6889 - precision: 0.5570 - recall: 0.5270\n",
            "Epoch 249/300\n",
            "70/70 [==============================] - 0s 1ms/step - loss: 30.5481 - accuracy: 0.6208 - precision: 0.4568 - recall: 0.4606\n",
            "Epoch 250/300\n",
            "70/70 [==============================] - 0s 1ms/step - loss: 26.4372 - accuracy: 0.6281 - precision: 0.4690 - recall: 0.5021\n",
            "Epoch 251/300\n",
            "70/70 [==============================] - 0s 1ms/step - loss: 27.3314 - accuracy: 0.6715 - precision: 0.5299 - recall: 0.5145\n",
            "Epoch 252/300\n",
            "70/70 [==============================] - 0s 1ms/step - loss: 26.2933 - accuracy: 0.6469 - precision: 0.4940 - recall: 0.5104\n",
            "Epoch 253/300\n",
            "70/70 [==============================] - 0s 1ms/step - loss: 25.1216 - accuracy: 0.6816 - precision: 0.5432 - recall: 0.5477\n",
            "Epoch 254/300\n",
            "70/70 [==============================] - 0s 1ms/step - loss: 24.8513 - accuracy: 0.6628 - precision: 0.5164 - recall: 0.5228\n",
            "Epoch 255/300\n",
            "70/70 [==============================] - 0s 1ms/step - loss: 23.5703 - accuracy: 0.6643 - precision: 0.5190 - recall: 0.5104\n",
            "Epoch 256/300\n",
            "70/70 [==============================] - 0s 1ms/step - loss: 26.7814 - accuracy: 0.6570 - precision: 0.5081 - recall: 0.5228\n",
            "Epoch 257/300\n",
            "70/70 [==============================] - 0s 2ms/step - loss: 27.5031 - accuracy: 0.6483 - precision: 0.4960 - recall: 0.5145\n",
            "Epoch 258/300\n",
            "70/70 [==============================] - 0s 1ms/step - loss: 24.8127 - accuracy: 0.6614 - precision: 0.5141 - recall: 0.5311\n",
            "Epoch 259/300\n",
            "70/70 [==============================] - 0s 1ms/step - loss: 24.7901 - accuracy: 0.6671 - precision: 0.5224 - recall: 0.5311\n",
            "Epoch 260/300\n",
            "70/70 [==============================] - 0s 1ms/step - loss: 23.9476 - accuracy: 0.6686 - precision: 0.5242 - recall: 0.5394\n",
            "Epoch 261/300\n",
            "70/70 [==============================] - 0s 1ms/step - loss: 26.5363 - accuracy: 0.6758 - precision: 0.5350 - recall: 0.5394\n",
            "Epoch 262/300\n",
            "70/70 [==============================] - 0s 1ms/step - loss: 25.6625 - accuracy: 0.6758 - precision: 0.5336 - recall: 0.5602\n",
            "Epoch 263/300\n",
            "70/70 [==============================] - 0s 1ms/step - loss: 26.7490 - accuracy: 0.6454 - precision: 0.4920 - recall: 0.5104\n",
            "Epoch 264/300\n",
            "70/70 [==============================] - 0s 1ms/step - loss: 22.8431 - accuracy: 0.6773 - precision: 0.5381 - recall: 0.5270\n",
            "Epoch 265/300\n",
            "70/70 [==============================] - 0s 1ms/step - loss: 29.8157 - accuracy: 0.6368 - precision: 0.4802 - recall: 0.5021\n",
            "Epoch 266/300\n",
            "70/70 [==============================] - 0s 2ms/step - loss: 25.9881 - accuracy: 0.6411 - precision: 0.4858 - recall: 0.4979\n",
            "Epoch 267/300\n",
            "70/70 [==============================] - 0s 1ms/step - loss: 25.5290 - accuracy: 0.6816 - precision: 0.5443 - recall: 0.5353\n",
            "Epoch 268/300\n",
            "70/70 [==============================] - 0s 1ms/step - loss: 27.2685 - accuracy: 0.6440 - precision: 0.4899 - recall: 0.5021\n",
            "Epoch 269/300\n",
            "70/70 [==============================] - 0s 1ms/step - loss: 29.3915 - accuracy: 0.6498 - precision: 0.4980 - recall: 0.5062\n",
            "Epoch 270/300\n",
            "70/70 [==============================] - 0s 1ms/step - loss: 25.0719 - accuracy: 0.6556 - precision: 0.5062 - recall: 0.5104\n",
            "Epoch 271/300\n",
            "70/70 [==============================] - 0s 1ms/step - loss: 27.9180 - accuracy: 0.6643 - precision: 0.5187 - recall: 0.5187\n",
            "Epoch 272/300\n",
            "70/70 [==============================] - 0s 1ms/step - loss: 28.7656 - accuracy: 0.6758 - precision: 0.5362 - recall: 0.5228\n",
            "Epoch 273/300\n",
            "70/70 [==============================] - 0s 2ms/step - loss: 22.5474 - accuracy: 0.6975 - precision: 0.5650 - recall: 0.5768\n",
            "Epoch 274/300\n",
            "70/70 [==============================] - 0s 1ms/step - loss: 26.3704 - accuracy: 0.6541 - precision: 0.5040 - recall: 0.5270\n",
            "Epoch 275/300\n",
            "70/70 [==============================] - 0s 1ms/step - loss: 25.9064 - accuracy: 0.6671 - precision: 0.5219 - recall: 0.5436\n",
            "Epoch 276/300\n",
            "70/70 [==============================] - 0s 1ms/step - loss: 25.7929 - accuracy: 0.6498 - precision: 0.4980 - recall: 0.5145\n",
            "Epoch 277/300\n",
            "70/70 [==============================] - 0s 1ms/step - loss: 28.0983 - accuracy: 0.6556 - precision: 0.5062 - recall: 0.5104\n",
            "Epoch 278/300\n",
            "70/70 [==============================] - 0s 1ms/step - loss: 27.0065 - accuracy: 0.6498 - precision: 0.4979 - recall: 0.4896\n",
            "Epoch 279/300\n",
            "70/70 [==============================] - 0s 2ms/step - loss: 24.0835 - accuracy: 0.6845 - precision: 0.5481 - recall: 0.5436\n",
            "Epoch 280/300\n",
            "70/70 [==============================] - 0s 1ms/step - loss: 28.9931 - accuracy: 0.6454 - precision: 0.4920 - recall: 0.5104\n",
            "Epoch 281/300\n",
            "70/70 [==============================] - 0s 2ms/step - loss: 23.5672 - accuracy: 0.6570 - precision: 0.5081 - recall: 0.5187\n",
            "Epoch 282/300\n",
            "70/70 [==============================] - 0s 1ms/step - loss: 25.2068 - accuracy: 0.6686 - precision: 0.5248 - recall: 0.5270\n",
            "Epoch 283/300\n",
            "70/70 [==============================] - 0s 2ms/step - loss: 27.4514 - accuracy: 0.6454 - precision: 0.4918 - recall: 0.4979\n",
            "Epoch 284/300\n",
            "70/70 [==============================] - 0s 1ms/step - loss: 25.2052 - accuracy: 0.6744 - precision: 0.5328 - recall: 0.5394\n",
            "Epoch 285/300\n",
            "70/70 [==============================] - 0s 1ms/step - loss: 30.6481 - accuracy: 0.6237 - precision: 0.4609 - recall: 0.4647\n",
            "Epoch 286/300\n",
            "70/70 [==============================] - 0s 1ms/step - loss: 25.9737 - accuracy: 0.6744 - precision: 0.5333 - recall: 0.5311\n",
            "Epoch 287/300\n",
            "70/70 [==============================] - 0s 1ms/step - loss: 26.8558 - accuracy: 0.6643 - precision: 0.5182 - recall: 0.5311\n",
            "Epoch 288/300\n",
            "70/70 [==============================] - 0s 1ms/step - loss: 24.6298 - accuracy: 0.6671 - precision: 0.5221 - recall: 0.5394\n",
            "Epoch 289/300\n",
            "70/70 [==============================] - 0s 1ms/step - loss: 28.4157 - accuracy: 0.6802 - precision: 0.5420 - recall: 0.5353\n",
            "Epoch 290/300\n",
            "70/70 [==============================] - 0s 1ms/step - loss: 25.2658 - accuracy: 0.6498 - precision: 0.4980 - recall: 0.5187\n",
            "Epoch 291/300\n",
            "70/70 [==============================] - 0s 1ms/step - loss: 28.0612 - accuracy: 0.6556 - precision: 0.5063 - recall: 0.4979\n",
            "Epoch 292/300\n",
            "70/70 [==============================] - 0s 1ms/step - loss: 25.6708 - accuracy: 0.6628 - precision: 0.5165 - recall: 0.5187\n",
            "Epoch 293/300\n",
            "70/70 [==============================] - 0s 1ms/step - loss: 26.7415 - accuracy: 0.6527 - precision: 0.5020 - recall: 0.5145\n",
            "Epoch 294/300\n",
            "70/70 [==============================] - 0s 1ms/step - loss: 26.0661 - accuracy: 0.6657 - precision: 0.5208 - recall: 0.5187\n",
            "Epoch 295/300\n",
            "70/70 [==============================] - 0s 1ms/step - loss: 29.4157 - accuracy: 0.6295 - precision: 0.4691 - recall: 0.4730\n",
            "Epoch 296/300\n",
            "70/70 [==============================] - 0s 1ms/step - loss: 24.1346 - accuracy: 0.6585 - precision: 0.5103 - recall: 0.5145\n",
            "Epoch 297/300\n",
            "70/70 [==============================] - 0s 1ms/step - loss: 25.2665 - accuracy: 0.6874 - precision: 0.5527 - recall: 0.5436\n",
            "Epoch 298/300\n",
            "70/70 [==============================] - 0s 1ms/step - loss: 24.5171 - accuracy: 0.6686 - precision: 0.5252 - recall: 0.5187\n",
            "Epoch 299/300\n",
            "70/70 [==============================] - 0s 1ms/step - loss: 28.4470 - accuracy: 0.6527 - precision: 0.5020 - recall: 0.5104\n",
            "Epoch 300/300\n",
            "70/70 [==============================] - 0s 1ms/step - loss: 26.2585 - accuracy: 0.6715 - precision: 0.5292 - recall: 0.5270\n"
          ],
          "name": "stdout"
        },
        {
          "output_type": "display_data",
          "data": {
            "image/png": "[encoded data removed]",
            "text/plain": [
              "<Figure size 432x288 with 1 Axes>"
            ]
          },
          "metadata": {
            "tags": []
          }
        }
      ]
    },
    {
      "cell_type": "code",
      "metadata": {
        "id": "Ux6suodj2KQV",
        "colab_type": "code",
        "colab": {}
      },
      "source": [
        ""
      ],
      "execution_count": 0,
      "outputs": []
    }
  ]
}